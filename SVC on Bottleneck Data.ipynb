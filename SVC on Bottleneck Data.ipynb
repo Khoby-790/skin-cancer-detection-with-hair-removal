{
 "cells": [
  {
   "cell_type": "code",
   "execution_count": 13,
   "metadata": {
    "collapsed": true
   },
   "outputs": [],
   "source": [
    "#Setting up the SVM for linear classification on top of CNN codes generated\n",
    "import numpy as np\n",
    "from sklearn.svm import LinearSVC, SVC\n",
    "import os"
   ]
  },
  {
   "cell_type": "code",
   "execution_count": 24,
   "metadata": {
    "collapsed": false
   },
   "outputs": [],
   "source": [
    "train_x = np.load(open(os.path.join('BottleneckData', 'train', 'bottleneck_features_train.npy'), 'r'))\n",
    "val_x = np.load(open(os.path.join('BottleneckData', 'val','bottleneck_features_validation.npy'), 'r'))\n",
    "train_y = np.array([0]*1459 + [1]*341)\n",
    "val_y = np.array([0]*167 + [1]*33)"
   ]
  },
  {
   "cell_type": "code",
   "execution_count": 25,
   "metadata": {
    "collapsed": false
   },
   "outputs": [
    {
     "name": "stdout",
     "output_type": "stream",
     "text": [
      "train x shape (1800, 1000)\n",
      "train y shape (1800,)\n",
      "val x shape (200, 1000)\n",
      "val y shape (200,)\n"
     ]
    }
   ],
   "source": [
    "print 'train x shape', train_x.shape\n",
    "print 'train y shape', train_y.shape\n",
    "\n",
    "print 'val x shape', val_x.shape\n",
    "print 'val y shape', val_y.shape"
   ]
  },
  {
   "cell_type": "code",
   "execution_count": 26,
   "metadata": {
    "collapsed": false
   },
   "outputs": [
    {
     "data": {
      "text/plain": [
       "LinearSVC(C=1.0, class_weight='balanced', dual=True, fit_intercept=True,\n",
       "     intercept_scaling=1, loss='squared_hinge', max_iter=1000,\n",
       "     multi_class='ovr', penalty='l2', random_state=None, tol=0.0001,\n",
       "     verbose=0)"
      ]
     },
     "execution_count": 26,
     "metadata": {},
     "output_type": "execute_result"
    }
   ],
   "source": [
    "mdl = LinearSVC(class_weight = 'balanced')\n",
    "mdl.fit(train_x, train_y)"
   ]
  },
  {
   "cell_type": "code",
   "execution_count": 27,
   "metadata": {
    "collapsed": false
   },
   "outputs": [
    {
     "name": "stdout",
     "output_type": "stream",
     "text": [
      "0.560152422428\n"
     ]
    }
   ],
   "source": [
    "from sklearn.metrics import roc_auc_score, accuracy_score\n",
    "pred = mdl.predict(val_x)\n",
    "print roc_auc_score(val_y, pred)"
   ]
  },
  {
   "cell_type": "code",
   "execution_count": null,
   "metadata": {
    "collapsed": true
   },
   "outputs": [],
   "source": []
  }
 ],
 "metadata": {
  "kernelspec": {
   "display_name": "Python [Root]",
   "language": "python",
   "name": "Python [Root]"
  },
  "language_info": {
   "codemirror_mode": {
    "name": "ipython",
    "version": 2
   },
   "file_extension": ".py",
   "mimetype": "text/x-python",
   "name": "python",
   "nbconvert_exporter": "python",
   "pygments_lexer": "ipython2",
   "version": "2.7.12"
  }
 },
 "nbformat": 4,
 "nbformat_minor": 0
}
